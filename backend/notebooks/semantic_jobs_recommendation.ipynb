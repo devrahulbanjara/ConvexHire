{
  "cells": [
    {
      "cell_type": "code",
      "execution_count": null,
      "metadata": {
        "id": "HEH4D2aN6Mqm"
      },
      "outputs": [],
      "source": [
        "!pip install qdrant-client sentence-transformers numpy pandas tqdm"
      ]
    },
    {
      "cell_type": "code",
      "execution_count": null,
      "metadata": {
        "id": "uwPfaIWVragf"
      },
      "outputs": [],
      "source": [
        "from sentence_transformers import SentenceTransformer\n",
        "import numpy as np\n",
        "import json\n",
        "import pandas as pd\n",
        "import pandas as pd\n",
        "import sqlite3\n",
        "import os\n",
        "from dotenv import load_dotenv\n",
        "\n",
        "load_dotenv()\n",
        "QDRANT_API_KEY = os.getenv(\"QDRANT_API_KEY\")\n",
        "QDRANT_URL = os.getenv(\"QDRANT_URL\")\n",
        "QDRANT_COLLECTION_JOBS = os.getenv(\"QDRANT_COLLECTION_JOBS\")"
      ]
    },
    {
      "cell_type": "code",
      "execution_count": 8,
      "metadata": {
        "id": "QmIdzZTg57TJ"
      },
      "outputs": [],
      "source": [
        "from tqdm.notebook import tqdm"
      ]
    },
    {
      "cell_type": "code",
      "execution_count": 19,
      "metadata": {
        "id": "yCQbbDZZ5gzj"
      },
      "outputs": [],
      "source": [
        "conn = sqlite3.connect('convexhire.db')"
      ]
    },
    {
      "cell_type": "code",
      "execution_count": 20,
      "metadata": {
        "id": "fpkr8ENw5pG6"
      },
      "outputs": [],
      "source": [
        "pd.set_option('display.max_columns', None)"
      ]
    },
    {
      "cell_type": "code",
      "execution_count": 39,
      "metadata": {
        "colab": {
          "base_uri": "https://localhost:8080/",
          "height": 674
        },
        "id": "xbhAKAXf5qW7",
        "outputId": "cea4f6da-5306-4485-9def-815a91bda568"
      },
      "outputs": [
        {
          "data": {
            "application/vnd.google.colaboratory.intrinsic+json": {
              "type": "dataframe",
              "variable_name": "df"
            },
            "text/html": [
              "\n",
              "  <div id=\"df-9817fe19-60ce-468c-9b7d-c3298c60defa\" class=\"colab-df-container\">\n",
              "    <div>\n",
              "<style scoped>\n",
              "    .dataframe tbody tr th:only-of-type {\n",
              "        vertical-align: middle;\n",
              "    }\n",
              "\n",
              "    .dataframe tbody tr th {\n",
              "        vertical-align: top;\n",
              "    }\n",
              "\n",
              "    .dataframe thead th {\n",
              "        text-align: right;\n",
              "    }\n",
              "</style>\n",
              "<table border=\"1\" class=\"dataframe\">\n",
              "  <thead>\n",
              "    <tr style=\"text-align: right;\">\n",
              "      <th></th>\n",
              "      <th>job_id</th>\n",
              "      <th>title</th>\n",
              "      <th>department</th>\n",
              "      <th>level</th>\n",
              "      <th>description</th>\n",
              "      <th>location</th>\n",
              "      <th>location_type</th>\n",
              "      <th>is_remote</th>\n",
              "      <th>employment_type</th>\n",
              "      <th>salary_min</th>\n",
              "      <th>salary_max</th>\n",
              "      <th>salary_currency</th>\n",
              "      <th>requirements</th>\n",
              "      <th>skills</th>\n",
              "      <th>benefits</th>\n",
              "      <th>posted_date</th>\n",
              "      <th>application_deadline</th>\n",
              "      <th>status</th>\n",
              "      <th>is_featured</th>\n",
              "      <th>applicant_count</th>\n",
              "      <th>views_count</th>\n",
              "      <th>company_id</th>\n",
              "      <th>created_by</th>\n",
              "      <th>created_at</th>\n",
              "      <th>updated_at</th>\n",
              "    </tr>\n",
              "  </thead>\n",
              "  <tbody>\n",
              "    <tr>\n",
              "      <th>0</th>\n",
              "      <td>1</td>\n",
              "      <td>Senior Full Stack Engineer</td>\n",
              "      <td>Engineering</td>\n",
              "      <td>Senior</td>\n",
              "      <td>Join our engineering team to build scalable cl...</td>\n",
              "      <td>San Francisco, CA</td>\n",
              "      <td>Hybrid</td>\n",
              "      <td>0</td>\n",
              "      <td>Full-time</td>\n",
              "      <td>140000</td>\n",
              "      <td>180000</td>\n",
              "      <td>USD</td>\n",
              "      <td>[\"5+ years of full stack development experienc...</td>\n",
              "      <td>[\"React\", \"Node.js\", \"Python\", \"AWS\", \"Kuberne...</td>\n",
              "      <td>[\"Competitive salary and equity\", \"Health, den...</td>\n",
              "      <td>2025-10-14</td>\n",
              "      <td>2025-11-13</td>\n",
              "      <td>Active</td>\n",
              "      <td>1</td>\n",
              "      <td>0</td>\n",
              "      <td>0</td>\n",
              "      <td>1</td>\n",
              "      <td>dcbab282-9198-4f48-a6da-dbad763bf052</td>\n",
              "      <td>2025-10-14 06:09:04.354237</td>\n",
              "      <td>2025-10-14 06:09:04.354244</td>\n",
              "    </tr>\n",
              "    <tr>\n",
              "      <th>1</th>\n",
              "      <td>2</td>\n",
              "      <td>Data Scientist</td>\n",
              "      <td>Data Science</td>\n",
              "      <td>Mid</td>\n",
              "      <td>Analyze complex datasets and build predictive ...</td>\n",
              "      <td>New York, NY</td>\n",
              "      <td>Hybrid</td>\n",
              "      <td>0</td>\n",
              "      <td>Full-time</td>\n",
              "      <td>110000</td>\n",
              "      <td>145000</td>\n",
              "      <td>USD</td>\n",
              "      <td>[\"3+ years of data science experience\", \"Stron...</td>\n",
              "      <td>[\"Python\", \"Machine Learning\", \"SQL\", \"TensorF...</td>\n",
              "      <td>[\"Competitive compensation\", \"Comprehensive he...</td>\n",
              "      <td>2025-10-14</td>\n",
              "      <td>2025-11-08</td>\n",
              "      <td>Active</td>\n",
              "      <td>1</td>\n",
              "      <td>0</td>\n",
              "      <td>0</td>\n",
              "      <td>2</td>\n",
              "      <td>dcbab282-9198-4f48-a6da-dbad763bf052</td>\n",
              "      <td>2025-10-14 06:09:04.354371</td>\n",
              "      <td>2025-10-14 06:09:04.354375</td>\n",
              "    </tr>\n",
              "    <tr>\n",
              "      <th>2</th>\n",
              "      <td>3</td>\n",
              "      <td>DevOps Engineer</td>\n",
              "      <td>Infrastructure</td>\n",
              "      <td>Mid</td>\n",
              "      <td>Build and maintain CI/CD pipelines, manage clo...</td>\n",
              "      <td>Remote</td>\n",
              "      <td>Remote</td>\n",
              "      <td>1</td>\n",
              "      <td>Full-time</td>\n",
              "      <td>120000</td>\n",
              "      <td>155000</td>\n",
              "      <td>USD</td>\n",
              "      <td>[\"3+ years of DevOps/SRE experience\", \"Strong ...</td>\n",
              "      <td>[\"AWS\", \"Kubernetes\", \"Docker\", \"Terraform\", \"...</td>\n",
              "      <td>[\"Fully remote position\", \"Competitive salary ...</td>\n",
              "      <td>2025-10-14</td>\n",
              "      <td>2025-11-18</td>\n",
              "      <td>Active</td>\n",
              "      <td>1</td>\n",
              "      <td>0</td>\n",
              "      <td>0</td>\n",
              "      <td>3</td>\n",
              "      <td>dcbab282-9198-4f48-a6da-dbad763bf052</td>\n",
              "      <td>2025-10-14 06:09:04.354433</td>\n",
              "      <td>2025-10-14 06:09:04.354436</td>\n",
              "    </tr>\n",
              "    <tr>\n",
              "      <th>3</th>\n",
              "      <td>4</td>\n",
              "      <td>Backend Engineer</td>\n",
              "      <td>Engineering</td>\n",
              "      <td>Junior</td>\n",
              "      <td>Develop and maintain backend services for our ...</td>\n",
              "      <td>Austin, TX</td>\n",
              "      <td>On-site</td>\n",
              "      <td>0</td>\n",
              "      <td>Full-time</td>\n",
              "      <td>85000</td>\n",
              "      <td>110000</td>\n",
              "      <td>USD</td>\n",
              "      <td>[\"1-2 years of backend development experience\"...</td>\n",
              "      <td>[\"Java\", \"Python\", \"PostgreSQL\", \"REST APIs\", ...</td>\n",
              "      <td>[\"Mentorship from senior engineers\", \"Health i...</td>\n",
              "      <td>2025-10-14</td>\n",
              "      <td>2025-11-23</td>\n",
              "      <td>Active</td>\n",
              "      <td>0</td>\n",
              "      <td>0</td>\n",
              "      <td>0</td>\n",
              "      <td>4</td>\n",
              "      <td>dcbab282-9198-4f48-a6da-dbad763bf052</td>\n",
              "      <td>2025-10-14 06:09:04.354488</td>\n",
              "      <td>2025-10-14 06:09:04.354491</td>\n",
              "    </tr>\n",
              "    <tr>\n",
              "      <th>4</th>\n",
              "      <td>5</td>\n",
              "      <td>React Native Developer</td>\n",
              "      <td>Mobile</td>\n",
              "      <td>Mid</td>\n",
              "      <td>Build beautiful, performant mobile application...</td>\n",
              "      <td>Los Angeles, CA</td>\n",
              "      <td>Hybrid</td>\n",
              "      <td>0</td>\n",
              "      <td>Full-time</td>\n",
              "      <td>115000</td>\n",
              "      <td>145000</td>\n",
              "      <td>USD</td>\n",
              "      <td>[\"3+ years of React Native development\", \"Stro...</td>\n",
              "      <td>[\"React Native\", \"TypeScript\", \"Redux\", \"iOS\",...</td>\n",
              "      <td>[\"Competitive salary\", \"Hybrid work schedule\",...</td>\n",
              "      <td>2025-10-14</td>\n",
              "      <td>2025-11-11</td>\n",
              "      <td>Active</td>\n",
              "      <td>0</td>\n",
              "      <td>0</td>\n",
              "      <td>0</td>\n",
              "      <td>5</td>\n",
              "      <td>dcbab282-9198-4f48-a6da-dbad763bf052</td>\n",
              "      <td>2025-10-14 06:09:04.354539</td>\n",
              "      <td>2025-10-14 06:09:04.354543</td>\n",
              "    </tr>\n",
              "    <tr>\n",
              "      <th>5</th>\n",
              "      <td>6</td>\n",
              "      <td>Frontend Engineer</td>\n",
              "      <td>Engineering</td>\n",
              "      <td>Mid</td>\n",
              "      <td>Create exceptional user experiences with moder...</td>\n",
              "      <td>Remote</td>\n",
              "      <td>Remote</td>\n",
              "      <td>1</td>\n",
              "      <td>Full-time</td>\n",
              "      <td>105000</td>\n",
              "      <td>135000</td>\n",
              "      <td>USD</td>\n",
              "      <td>[\"3+ years of frontend development experience\"...</td>\n",
              "      <td>[\"React\", \"TypeScript\", \"CSS\", \"Tailwind\", \"Ne...</td>\n",
              "      <td>[\"Fully remote\", \"Flexible hours\", \"Health ins...</td>\n",
              "      <td>2025-10-14</td>\n",
              "      <td>2025-11-15</td>\n",
              "      <td>Active</td>\n",
              "      <td>1</td>\n",
              "      <td>0</td>\n",
              "      <td>0</td>\n",
              "      <td>1</td>\n",
              "      <td>dcbab282-9198-4f48-a6da-dbad763bf052</td>\n",
              "      <td>2025-10-14 06:09:04.354589</td>\n",
              "      <td>2025-10-14 06:09:04.354592</td>\n",
              "    </tr>\n",
              "  </tbody>\n",
              "</table>\n",
              "</div>\n",
              "    <div class=\"colab-df-buttons\">\n",
              "\n",
              "  <div class=\"colab-df-container\">\n",
              "    <button class=\"colab-df-convert\" onclick=\"convertToInteractive('df-9817fe19-60ce-468c-9b7d-c3298c60defa')\"\n",
              "            title=\"Convert this dataframe to an interactive table.\"\n",
              "            style=\"display:none;\">\n",
              "\n",
              "  <svg xmlns=\"http://www.w3.org/2000/svg\" height=\"24px\" viewBox=\"0 -960 960 960\">\n",
              "    <path d=\"M120-120v-720h720v720H120Zm60-500h600v-160H180v160Zm220 220h160v-160H400v160Zm0 220h160v-160H400v160ZM180-400h160v-160H180v160Zm440 0h160v-160H620v160ZM180-180h160v-160H180v160Zm440 0h160v-160H620v160Z\"/>\n",
              "  </svg>\n",
              "    </button>\n",
              "\n",
              "  <style>\n",
              "    .colab-df-container {\n",
              "      display:flex;\n",
              "      gap: 12px;\n",
              "    }\n",
              "\n",
              "    .colab-df-convert {\n",
              "      background-color: #E8F0FE;\n",
              "      border: none;\n",
              "      border-radius: 50%;\n",
              "      cursor: pointer;\n",
              "      display: none;\n",
              "      fill: #1967D2;\n",
              "      height: 32px;\n",
              "      padding: 0 0 0 0;\n",
              "      width: 32px;\n",
              "    }\n",
              "\n",
              "    .colab-df-convert:hover {\n",
              "      background-color: #E2EBFA;\n",
              "      box-shadow: 0px 1px 2px rgba(60, 64, 67, 0.3), 0px 1px 3px 1px rgba(60, 64, 67, 0.15);\n",
              "      fill: #174EA6;\n",
              "    }\n",
              "\n",
              "    .colab-df-buttons div {\n",
              "      margin-bottom: 4px;\n",
              "    }\n",
              "\n",
              "    [theme=dark] .colab-df-convert {\n",
              "      background-color: #3B4455;\n",
              "      fill: #D2E3FC;\n",
              "    }\n",
              "\n",
              "    [theme=dark] .colab-df-convert:hover {\n",
              "      background-color: #434B5C;\n",
              "      box-shadow: 0px 1px 3px 1px rgba(0, 0, 0, 0.15);\n",
              "      filter: drop-shadow(0px 1px 2px rgba(0, 0, 0, 0.3));\n",
              "      fill: #FFFFFF;\n",
              "    }\n",
              "  </style>\n",
              "\n",
              "    <script>\n",
              "      const buttonEl =\n",
              "        document.querySelector('#df-9817fe19-60ce-468c-9b7d-c3298c60defa button.colab-df-convert');\n",
              "      buttonEl.style.display =\n",
              "        google.colab.kernel.accessAllowed ? 'block' : 'none';\n",
              "\n",
              "      async function convertToInteractive(key) {\n",
              "        const element = document.querySelector('#df-9817fe19-60ce-468c-9b7d-c3298c60defa');\n",
              "        const dataTable =\n",
              "          await google.colab.kernel.invokeFunction('convertToInteractive',\n",
              "                                                    [key], {});\n",
              "        if (!dataTable) return;\n",
              "\n",
              "        const docLinkHtml = 'Like what you see? Visit the ' +\n",
              "          '<a target=\"_blank\" href=https://colab.research.google.com/notebooks/data_table.ipynb>data table notebook</a>'\n",
              "          + ' to learn more about interactive tables.';\n",
              "        element.innerHTML = '';\n",
              "        dataTable['output_type'] = 'display_data';\n",
              "        await google.colab.output.renderOutput(dataTable, element);\n",
              "        const docLink = document.createElement('div');\n",
              "        docLink.innerHTML = docLinkHtml;\n",
              "        element.appendChild(docLink);\n",
              "      }\n",
              "    </script>\n",
              "  </div>\n",
              "\n",
              "\n",
              "    <div id=\"df-3679fb19-0bd6-43a7-ba75-27bd53524495\">\n",
              "      <button class=\"colab-df-quickchart\" onclick=\"quickchart('df-3679fb19-0bd6-43a7-ba75-27bd53524495')\"\n",
              "                title=\"Suggest charts\"\n",
              "                style=\"display:none;\">\n",
              "\n",
              "<svg xmlns=\"http://www.w3.org/2000/svg\" height=\"24px\"viewBox=\"0 0 24 24\"\n",
              "     width=\"24px\">\n",
              "    <g>\n",
              "        <path d=\"M19 3H5c-1.1 0-2 .9-2 2v14c0 1.1.9 2 2 2h14c1.1 0 2-.9 2-2V5c0-1.1-.9-2-2-2zM9 17H7v-7h2v7zm4 0h-2V7h2v10zm4 0h-2v-4h2v4z\"/>\n",
              "    </g>\n",
              "</svg>\n",
              "      </button>\n",
              "\n",
              "<style>\n",
              "  .colab-df-quickchart {\n",
              "      --bg-color: #E8F0FE;\n",
              "      --fill-color: #1967D2;\n",
              "      --hover-bg-color: #E2EBFA;\n",
              "      --hover-fill-color: #174EA6;\n",
              "      --disabled-fill-color: #AAA;\n",
              "      --disabled-bg-color: #DDD;\n",
              "  }\n",
              "\n",
              "  [theme=dark] .colab-df-quickchart {\n",
              "      --bg-color: #3B4455;\n",
              "      --fill-color: #D2E3FC;\n",
              "      --hover-bg-color: #434B5C;\n",
              "      --hover-fill-color: #FFFFFF;\n",
              "      --disabled-bg-color: #3B4455;\n",
              "      --disabled-fill-color: #666;\n",
              "  }\n",
              "\n",
              "  .colab-df-quickchart {\n",
              "    background-color: var(--bg-color);\n",
              "    border: none;\n",
              "    border-radius: 50%;\n",
              "    cursor: pointer;\n",
              "    display: none;\n",
              "    fill: var(--fill-color);\n",
              "    height: 32px;\n",
              "    padding: 0;\n",
              "    width: 32px;\n",
              "  }\n",
              "\n",
              "  .colab-df-quickchart:hover {\n",
              "    background-color: var(--hover-bg-color);\n",
              "    box-shadow: 0 1px 2px rgba(60, 64, 67, 0.3), 0 1px 3px 1px rgba(60, 64, 67, 0.15);\n",
              "    fill: var(--button-hover-fill-color);\n",
              "  }\n",
              "\n",
              "  .colab-df-quickchart-complete:disabled,\n",
              "  .colab-df-quickchart-complete:disabled:hover {\n",
              "    background-color: var(--disabled-bg-color);\n",
              "    fill: var(--disabled-fill-color);\n",
              "    box-shadow: none;\n",
              "  }\n",
              "\n",
              "  .colab-df-spinner {\n",
              "    border: 2px solid var(--fill-color);\n",
              "    border-color: transparent;\n",
              "    border-bottom-color: var(--fill-color);\n",
              "    animation:\n",
              "      spin 1s steps(1) infinite;\n",
              "  }\n",
              "\n",
              "  @keyframes spin {\n",
              "    0% {\n",
              "      border-color: transparent;\n",
              "      border-bottom-color: var(--fill-color);\n",
              "      border-left-color: var(--fill-color);\n",
              "    }\n",
              "    20% {\n",
              "      border-color: transparent;\n",
              "      border-left-color: var(--fill-color);\n",
              "      border-top-color: var(--fill-color);\n",
              "    }\n",
              "    30% {\n",
              "      border-color: transparent;\n",
              "      border-left-color: var(--fill-color);\n",
              "      border-top-color: var(--fill-color);\n",
              "      border-right-color: var(--fill-color);\n",
              "    }\n",
              "    40% {\n",
              "      border-color: transparent;\n",
              "      border-right-color: var(--fill-color);\n",
              "      border-top-color: var(--fill-color);\n",
              "    }\n",
              "    60% {\n",
              "      border-color: transparent;\n",
              "      border-right-color: var(--fill-color);\n",
              "    }\n",
              "    80% {\n",
              "      border-color: transparent;\n",
              "      border-right-color: var(--fill-color);\n",
              "      border-bottom-color: var(--fill-color);\n",
              "    }\n",
              "    90% {\n",
              "      border-color: transparent;\n",
              "      border-bottom-color: var(--fill-color);\n",
              "    }\n",
              "  }\n",
              "</style>\n",
              "\n",
              "      <script>\n",
              "        async function quickchart(key) {\n",
              "          const quickchartButtonEl =\n",
              "            document.querySelector('#' + key + ' button');\n",
              "          quickchartButtonEl.disabled = true;  // To prevent multiple clicks.\n",
              "          quickchartButtonEl.classList.add('colab-df-spinner');\n",
              "          try {\n",
              "            const charts = await google.colab.kernel.invokeFunction(\n",
              "                'suggestCharts', [key], {});\n",
              "          } catch (error) {\n",
              "            console.error('Error during call to suggestCharts:', error);\n",
              "          }\n",
              "          quickchartButtonEl.classList.remove('colab-df-spinner');\n",
              "          quickchartButtonEl.classList.add('colab-df-quickchart-complete');\n",
              "        }\n",
              "        (() => {\n",
              "          let quickchartButtonEl =\n",
              "            document.querySelector('#df-3679fb19-0bd6-43a7-ba75-27bd53524495 button');\n",
              "          quickchartButtonEl.style.display =\n",
              "            google.colab.kernel.accessAllowed ? 'block' : 'none';\n",
              "        })();\n",
              "      </script>\n",
              "    </div>\n",
              "\n",
              "    </div>\n",
              "  </div>\n"
            ],
            "text/plain": [
              "   job_id                       title      department   level  \\\n",
              "0       1  Senior Full Stack Engineer     Engineering  Senior   \n",
              "1       2              Data Scientist    Data Science     Mid   \n",
              "2       3             DevOps Engineer  Infrastructure     Mid   \n",
              "3       4            Backend Engineer     Engineering  Junior   \n",
              "4       5      React Native Developer          Mobile     Mid   \n",
              "5       6           Frontend Engineer     Engineering     Mid   \n",
              "\n",
              "                                         description           location  \\\n",
              "0  Join our engineering team to build scalable cl...  San Francisco, CA   \n",
              "1  Analyze complex datasets and build predictive ...       New York, NY   \n",
              "2  Build and maintain CI/CD pipelines, manage clo...             Remote   \n",
              "3  Develop and maintain backend services for our ...         Austin, TX   \n",
              "4  Build beautiful, performant mobile application...    Los Angeles, CA   \n",
              "5  Create exceptional user experiences with moder...             Remote   \n",
              "\n",
              "  location_type  is_remote employment_type  salary_min  salary_max  \\\n",
              "0        Hybrid          0       Full-time      140000      180000   \n",
              "1        Hybrid          0       Full-time      110000      145000   \n",
              "2        Remote          1       Full-time      120000      155000   \n",
              "3       On-site          0       Full-time       85000      110000   \n",
              "4        Hybrid          0       Full-time      115000      145000   \n",
              "5        Remote          1       Full-time      105000      135000   \n",
              "\n",
              "  salary_currency                                       requirements  \\\n",
              "0             USD  [\"5+ years of full stack development experienc...   \n",
              "1             USD  [\"3+ years of data science experience\", \"Stron...   \n",
              "2             USD  [\"3+ years of DevOps/SRE experience\", \"Strong ...   \n",
              "3             USD  [\"1-2 years of backend development experience\"...   \n",
              "4             USD  [\"3+ years of React Native development\", \"Stro...   \n",
              "5             USD  [\"3+ years of frontend development experience\"...   \n",
              "\n",
              "                                              skills  \\\n",
              "0  [\"React\", \"Node.js\", \"Python\", \"AWS\", \"Kuberne...   \n",
              "1  [\"Python\", \"Machine Learning\", \"SQL\", \"TensorF...   \n",
              "2  [\"AWS\", \"Kubernetes\", \"Docker\", \"Terraform\", \"...   \n",
              "3  [\"Java\", \"Python\", \"PostgreSQL\", \"REST APIs\", ...   \n",
              "4  [\"React Native\", \"TypeScript\", \"Redux\", \"iOS\",...   \n",
              "5  [\"React\", \"TypeScript\", \"CSS\", \"Tailwind\", \"Ne...   \n",
              "\n",
              "                                            benefits posted_date  \\\n",
              "0  [\"Competitive salary and equity\", \"Health, den...  2025-10-14   \n",
              "1  [\"Competitive compensation\", \"Comprehensive he...  2025-10-14   \n",
              "2  [\"Fully remote position\", \"Competitive salary ...  2025-10-14   \n",
              "3  [\"Mentorship from senior engineers\", \"Health i...  2025-10-14   \n",
              "4  [\"Competitive salary\", \"Hybrid work schedule\",...  2025-10-14   \n",
              "5  [\"Fully remote\", \"Flexible hours\", \"Health ins...  2025-10-14   \n",
              "\n",
              "  application_deadline  status  is_featured  applicant_count  views_count  \\\n",
              "0           2025-11-13  Active            1                0            0   \n",
              "1           2025-11-08  Active            1                0            0   \n",
              "2           2025-11-18  Active            1                0            0   \n",
              "3           2025-11-23  Active            0                0            0   \n",
              "4           2025-11-11  Active            0                0            0   \n",
              "5           2025-11-15  Active            1                0            0   \n",
              "\n",
              "   company_id                            created_by  \\\n",
              "0           1  dcbab282-9198-4f48-a6da-dbad763bf052   \n",
              "1           2  dcbab282-9198-4f48-a6da-dbad763bf052   \n",
              "2           3  dcbab282-9198-4f48-a6da-dbad763bf052   \n",
              "3           4  dcbab282-9198-4f48-a6da-dbad763bf052   \n",
              "4           5  dcbab282-9198-4f48-a6da-dbad763bf052   \n",
              "5           1  dcbab282-9198-4f48-a6da-dbad763bf052   \n",
              "\n",
              "                   created_at                  updated_at  \n",
              "0  2025-10-14 06:09:04.354237  2025-10-14 06:09:04.354244  \n",
              "1  2025-10-14 06:09:04.354371  2025-10-14 06:09:04.354375  \n",
              "2  2025-10-14 06:09:04.354433  2025-10-14 06:09:04.354436  \n",
              "3  2025-10-14 06:09:04.354488  2025-10-14 06:09:04.354491  \n",
              "4  2025-10-14 06:09:04.354539  2025-10-14 06:09:04.354543  \n",
              "5  2025-10-14 06:09:04.354589  2025-10-14 06:09:04.354592  "
            ]
          },
          "execution_count": 39,
          "metadata": {},
          "output_type": "execute_result"
        }
      ],
      "source": [
        "sql_query = \"SELECT * FROM job;\"\n",
        "df = pd.read_sql_query(sql_query, conn)\n",
        "df.head(10)"
      ]
    },
    {
      "cell_type": "code",
      "execution_count": 22,
      "metadata": {
        "colab": {
          "base_uri": "https://localhost:8080/"
        },
        "id": "3ZcAEf5K5rQY",
        "outputId": "74834993-6823-49c7-d440-cb0db88d2cd6"
      },
      "outputs": [
        {
          "data": {
            "text/plain": [
              "['Senior Full Stack Engineer,Join our engineering team to build scalable cloud infrastructure. Work on cutting-edge technologies including Kubernetes, microservices, and serverless architectures.,[\"React\", \"Node.js\", \"Python\", \"AWS\", \"Kubernetes\", \"TypeScript\"]',\n",
              " 'Data Scientist,Analyze complex datasets and build predictive models to drive business insights. Work with cutting-edge ML frameworks and big data technologies.,[\"Python\", \"Machine Learning\", \"SQL\", \"TensorFlow\", \"pandas\", \"Tableau\"]',\n",
              " 'DevOps Engineer,Build and maintain CI/CD pipelines, manage cloud infrastructure, and ensure system reliability. Work with modern DevOps tools and practices.,[\"AWS\", \"Kubernetes\", \"Docker\", \"Terraform\", \"Jenkins\", \"Python\"]',\n",
              " 'Backend Engineer,Develop and maintain backend services for our payment processing platform. Learn from experienced engineers and grow your skills.,[\"Java\", \"Python\", \"PostgreSQL\", \"REST APIs\", \"Git\", \"Linux\"]',\n",
              " 'React Native Developer,Build beautiful, performant mobile applications for iOS and Android. Work closely with designers and product managers.,[\"React Native\", \"TypeScript\", \"Redux\", \"iOS\", \"Android\", \"Jest\"]',\n",
              " 'Frontend Engineer,Create exceptional user experiences with modern frontend technologies. Build responsive, accessible web applications.,[\"React\", \"TypeScript\", \"CSS\", \"Tailwind\", \"Next.js\", \"Testing Library\"]']"
            ]
          },
          "execution_count": 22,
          "metadata": {},
          "output_type": "execute_result"
        }
      ],
      "source": [
        "[row.title + \",\" + row.description + \",\" + row.skills for row in df.itertuples()]"
      ]
    },
    {
      "cell_type": "code",
      "execution_count": 23,
      "metadata": {
        "id": "nmLiyivP5syj"
      },
      "outputs": [],
      "source": [
        "model = SentenceTransformer(\n",
        "    \"all-MiniLM-L6-v2\", device=\"cuda\"\n",
        ")"
      ]
    },
    {
      "cell_type": "code",
      "execution_count": 24,
      "metadata": {
        "colab": {
          "base_uri": "https://localhost:8080/"
        },
        "id": "HtuUPCfe84EL",
        "outputId": "9aca76aa-bae1-4c05-f70b-d9f27befe32a"
      },
      "outputs": [
        {
          "data": {
            "text/plain": [
              "['Senior Full Stack Engineer. Join our engineering team to build scalable cloud infrastructure. Work on cutting-edge technologies including Kubernetes, microservices, and serverless architectures.. [\"React\", \"Node.js\", \"Python\", \"AWS\", \"Kubernetes\", \"TypeScript\"]',\n",
              " 'Data Scientist. Analyze complex datasets and build predictive models to drive business insights. Work with cutting-edge ML frameworks and big data technologies.. [\"Python\", \"Machine Learning\", \"SQL\", \"TensorFlow\", \"pandas\", \"Tableau\"]',\n",
              " 'DevOps Engineer. Build and maintain CI/CD pipelines, manage cloud infrastructure, and ensure system reliability. Work with modern DevOps tools and practices.. [\"AWS\", \"Kubernetes\", \"Docker\", \"Terraform\", \"Jenkins\", \"Python\"]',\n",
              " 'Backend Engineer. Develop and maintain backend services for our payment processing platform. Learn from experienced engineers and grow your skills.. [\"Java\", \"Python\", \"PostgreSQL\", \"REST APIs\", \"Git\", \"Linux\"]',\n",
              " 'React Native Developer. Build beautiful, performant mobile applications for iOS and Android. Work closely with designers and product managers.. [\"React Native\", \"TypeScript\", \"Redux\", \"iOS\", \"Android\", \"Jest\"]',\n",
              " 'Frontend Engineer. Create exceptional user experiences with modern frontend technologies. Build responsive, accessible web applications.. [\"React\", \"TypeScript\", \"CSS\", \"Tailwind\", \"Next.js\", \"Testing Library\"]']"
            ]
          },
          "execution_count": 24,
          "metadata": {},
          "output_type": "execute_result"
        }
      ],
      "source": [
        "texts = [\n",
        "    f\"{row.title}. {row.description}. {row.skills}\"\n",
        "    for row in df.itertuples(index=False)\n",
        "]\n",
        "texts"
      ]
    },
    {
      "cell_type": "code",
      "execution_count": 25,
      "metadata": {
        "colab": {
          "base_uri": "https://localhost:8080/",
          "height": 49,
          "referenced_widgets": [
            "294c6d47b1c0419881beed9d0918c03e",
            "4af95eaffca748258c09013e32f0ec5e",
            "f11a8920fb0f45a196358880e9f67c26",
            "0316d2e54402470aa1920ccc35dc4ba8",
            "4eeb6276b3f04e48b7f5ab59b3617944",
            "54eb30ad2596431a870514d20a21e037",
            "c4b7372bb63f415f89230831c751a068",
            "564b331036d048e181814cf114e7a32b",
            "67f4f9a9d8b045c2a6bc24559bc49506",
            "dfbb0924698b4140aee7b94f82c35cf9",
            "d05a004832ea47b195ab9ccf8d778b61"
          ]
        },
        "id": "54vP7-7f5uaI",
        "outputId": "d39722a1-428d-4c6a-964c-d03295a30863"
      },
      "outputs": [
        {
          "data": {
            "application/vnd.jupyter.widget-view+json": {
              "model_id": "294c6d47b1c0419881beed9d0918c03e",
              "version_major": 2,
              "version_minor": 0
            },
            "text/plain": [
              "Batches:   0%|          | 0/1 [00:00<?, ?it/s]"
            ]
          },
          "metadata": {},
          "output_type": "display_data"
        }
      ],
      "source": [
        "vectors = model.encode(texts, show_progress_bar=True)"
      ]
    },
    {
      "cell_type": "code",
      "execution_count": 26,
      "metadata": {
        "colab": {
          "base_uri": "https://localhost:8080/"
        },
        "id": "t5hybETA6CYT",
        "outputId": "3a256c50-181f-4233-d0fb-6ac04a71ed4f"
      },
      "outputs": [
        {
          "data": {
            "text/plain": [
              "array([[-0.02416821, -0.02880373,  0.08208416, ..., -0.03736752,\n",
              "        -0.00331066,  0.00910225],\n",
              "       [-0.00997357, -0.06150351, -0.00562632, ..., -0.06321636,\n",
              "        -0.0137971 ,  0.03574916],\n",
              "       [ 0.002434  ,  0.00060705,  0.0636327 , ..., -0.02245474,\n",
              "         0.03088372,  0.01583491],\n",
              "       [-0.03367468, -0.03481144, -0.01257724, ...,  0.0036023 ,\n",
              "         0.06078191,  0.00811241],\n",
              "       [-0.05593196, -0.0410427 ,  0.12492653, ...,  0.0017355 ,\n",
              "         0.05007673,  0.0465199 ],\n",
              "       [-0.05071673, -0.02394487,  0.02112311, ...,  0.00856446,\n",
              "         0.00063305,  0.08031742]], dtype=float32)"
            ]
          },
          "execution_count": 26,
          "metadata": {},
          "output_type": "execute_result"
        }
      ],
      "source": [
        "vectors"
      ]
    },
    {
      "cell_type": "code",
      "execution_count": null,
      "metadata": {
        "id": "H_wPAZ5X6RMj"
      },
      "outputs": [],
      "source": [
        "from qdrant_client import QdrantClient\n",
        "from qdrant_client.models import VectorParams, Distance\n",
        "\n",
        "client = QdrantClient(\n",
        "    url=QDRANT_URL,\n",
        "    api_key=QDRANT_API_KEY,\n",
        ")"
      ]
    },
    {
      "cell_type": "code",
      "execution_count": null,
      "metadata": {
        "id": "vwDdYe5E6Uqk"
      },
      "outputs": [],
      "source": [
        "collection_name = QDRANT_COLLECTION_JOBS\n",
        "\n",
        "if not client.collection_exists(collection_name):\n",
        "    client.create_collection(\n",
        "        collection_name=collection_name,\n",
        "        vectors_config=VectorParams(\n",
        "            size=model.get_sentence_embedding_dimension(),\n",
        "            distance=Distance.COSINE,\n",
        "        ),\n",
        "    )"
      ]
    },
    {
      "cell_type": "code",
      "execution_count": 52,
      "metadata": {
        "id": "lXuVt9kz6ZA6"
      },
      "outputs": [],
      "source": [
        "payloads = [\n",
        "    {\n",
        "        \"job_id\": row.job_id,\n",
        "        \"title\": row.title,\n",
        "        \"department\": row.department,\n",
        "        \"level\": row.level,\n",
        "        \"location\": row.location,\n",
        "        \"location_type\": row.location_type,\n",
        "        \"employment_type\": row.employment_type,\n",
        "        \"salary_min\": row.salary_min,\n",
        "        \"salary_max\": row.salary_max,\n",
        "        \"salary_currency\": row.salary_currency,\n",
        "        \"company_id\": row.company_id,\n",
        "        \"posted_date\": row.posted_date,\n",
        "        \"status\": row.status,\n",
        "    }\n",
        "    for row in df.itertuples(index=False)\n",
        "]"
      ]
    },
    {
      "cell_type": "code",
      "execution_count": 53,
      "metadata": {
        "colab": {
          "base_uri": "https://localhost:8080/"
        },
        "id": "jMDLbIfR9F3O",
        "outputId": "265e27b2-e123-4823-e3f3-c00988220cb8"
      },
      "outputs": [
        {
          "name": "stdout",
          "output_type": "stream",
          "text": [
            "Uploaded vectors with title metadata successfully!\n"
          ]
        }
      ],
      "source": [
        "client.upload_collection(\n",
        "    collection_name=collection_name,\n",
        "    vectors=vectors,\n",
        "    payload=payloads,\n",
        "    ids=None,\n",
        "    batch_size=128,\n",
        ")\n",
        "\n",
        "print(\"Uploaded vectors with title metadata successfully!\")"
      ]
    },
    {
      "cell_type": "code",
      "execution_count": 58,
      "metadata": {
        "colab": {
          "base_uri": "https://localhost:8080/"
        },
        "id": "kWZ5yAzW9ImY",
        "outputId": "55b0bd93-734f-4fdf-f66a-39984e36b68c"
      },
      "outputs": [
        {
          "name": "stdout",
          "output_type": "stream",
          "text": [
            "1. Data Scientist  (score=0.170)   Level: Mid   Company ID: 2\n",
            "2. Senior Full Stack Engineer  (score=0.100)   Level: Senior   Company ID: 1\n",
            "3. Backend Engineer  (score=0.094)   Level: Junior   Company ID: 4\n",
            "4. Frontend Engineer  (score=0.082)   Level: Mid   Company ID: 1\n",
            "5. React Native Developer  (score=0.070)   Level: Mid   Company ID: 5\n"
          ]
        }
      ],
      "source": [
        "for i, hit in enumerate(search_results.points):\n",
        "    title = hit.payload.get(\"title\", \"N/A\")\n",
        "    level = hit.payload.get(\"level\", \"N/A\")\n",
        "    company_id = hit.payload.get(\"company_id\", \"N/A\")\n",
        "    score = hit.score\n",
        "\n",
        "    print(f\"{i+1}. {title}  (score={score:.3f})   Level: {level}   Company ID: {company_id}\")"
      ]
    },
    {
      "cell_type": "code",
      "execution_count": null,
      "metadata": {
        "colab": {
          "base_uri": "https://localhost:8080/"
        },
        "id": "mpFJmT5t9Lvw",
        "outputId": "6af363ea-1454-4a10-c4e4-71f0353871f0"
      },
      "outputs": [
        {
          "data": {
            "text/plain": [
              "True"
            ]
          },
          "execution_count": 48,
          "metadata": {},
          "output_type": "execute_result"
        }
      ],
      "source": [
        "# client.delete_collection(collection_name=QDRANT_COLLECTION_JOBS)"
      ]
    },
    {
      "cell_type": "code",
      "execution_count": 64,
      "metadata": {
        "colab": {
          "base_uri": "https://localhost:8080/"
        },
        "id": "SChcixju9clI",
        "outputId": "336c1495-9ef7-46f3-efa7-2cf4bd5dd209"
      },
      "outputs": [
        {
          "name": "stdout",
          "output_type": "stream",
          "text": [
            "id='e6ee07d9-88af-40b9-87d9-62d017c95de4' version=0 score=0.16968471 payload={'job_id': 2, 'title': 'Data Scientist', 'department': 'Data Science', 'level': 'Mid', 'location': 'New York, NY', 'location_type': 'Hybrid', 'employment_type': 'Full-time', 'salary_min': 110000, 'salary_max': 145000, 'salary_currency': 'USD', 'company_id': 2, 'posted_date': '2025-10-14', 'status': 'Active'} vector=None shard_key=None order_value=None\n",
            "id='2b9fface-11d5-496a-8d80-6b4cf000a709' version=0 score=0.10018246 payload={'job_id': 1, 'title': 'Senior Full Stack Engineer', 'department': 'Engineering', 'level': 'Senior', 'location': 'San Francisco, CA', 'location_type': 'Hybrid', 'employment_type': 'Full-time', 'salary_min': 140000, 'salary_max': 180000, 'salary_currency': 'USD', 'company_id': 1, 'posted_date': '2025-10-14', 'status': 'Active'} vector=None shard_key=None order_value=None\n",
            "id='5af5f7d5-e415-4e03-9b79-337642902e11' version=0 score=0.09371268 payload={'job_id': 4, 'title': 'Backend Engineer', 'department': 'Engineering', 'level': 'Junior', 'location': 'Austin, TX', 'location_type': 'On-site', 'employment_type': 'Full-time', 'salary_min': 85000, 'salary_max': 110000, 'salary_currency': 'USD', 'company_id': 4, 'posted_date': '2025-10-14', 'status': 'Active'} vector=None shard_key=None order_value=None\n",
            "id='8630dfba-704b-479a-b387-a39f6a04a2af' version=0 score=0.08224496 payload={'job_id': 6, 'title': 'Frontend Engineer', 'department': 'Engineering', 'level': 'Mid', 'location': 'Remote', 'location_type': 'Remote', 'employment_type': 'Full-time', 'salary_min': 105000, 'salary_max': 135000, 'salary_currency': 'USD', 'company_id': 1, 'posted_date': '2025-10-14', 'status': 'Active'} vector=None shard_key=None order_value=None\n",
            "id='43c8802d-26c3-4ca0-a034-86d889ce1279' version=0 score=0.07008393 payload={'job_id': 5, 'title': 'React Native Developer', 'department': 'Mobile', 'level': 'Mid', 'location': 'Los Angeles, CA', 'location_type': 'Hybrid', 'employment_type': 'Full-time', 'salary_min': 115000, 'salary_max': 145000, 'salary_currency': 'USD', 'company_id': 5, 'posted_date': '2025-10-14', 'status': 'Active'} vector=None shard_key=None order_value=None\n"
          ]
        }
      ],
      "source": [
        "for i in search_results.points:\n",
        "  print(i)"
      ]
    },
    {
      "cell_type": "code",
      "execution_count": null,
      "metadata": {
        "id": "k8YrPJJ6nNaF"
      },
      "outputs": [],
      "source": []
    }
  ],
  "metadata": {
    "accelerator": "GPU",
    "colab": {
      "gpuType": "T4",
      "provenance": []
    },
    "kernelspec": {
      "display_name": "Python 3",
      "name": "python3"
    },
    "language_info": {
      "name": "python"
    },
    "widgets": {
      "application/vnd.jupyter.widget-state+json": {
        "0316d2e54402470aa1920ccc35dc4ba8": {
          "model_module": "@jupyter-widgets/controls",
          "model_module_version": "1.5.0",
          "model_name": "HTMLModel",
          "state": {
            "_dom_classes": [],
            "_model_module": "@jupyter-widgets/controls",
            "_model_module_version": "1.5.0",
            "_model_name": "HTMLModel",
            "_view_count": null,
            "_view_module": "@jupyter-widgets/controls",
            "_view_module_version": "1.5.0",
            "_view_name": "HTMLView",
            "description": "",
            "description_tooltip": null,
            "layout": "IPY_MODEL_dfbb0924698b4140aee7b94f82c35cf9",
            "placeholder": "​",
            "style": "IPY_MODEL_d05a004832ea47b195ab9ccf8d778b61",
            "value": " 1/1 [00:00&lt;00:00, 23.47it/s]"
          }
        },
        "294c6d47b1c0419881beed9d0918c03e": {
          "model_module": "@jupyter-widgets/controls",
          "model_module_version": "1.5.0",
          "model_name": "HBoxModel",
          "state": {
            "_dom_classes": [],
            "_model_module": "@jupyter-widgets/controls",
            "_model_module_version": "1.5.0",
            "_model_name": "HBoxModel",
            "_view_count": null,
            "_view_module": "@jupyter-widgets/controls",
            "_view_module_version": "1.5.0",
            "_view_name": "HBoxView",
            "box_style": "",
            "children": [
              "IPY_MODEL_4af95eaffca748258c09013e32f0ec5e",
              "IPY_MODEL_f11a8920fb0f45a196358880e9f67c26",
              "IPY_MODEL_0316d2e54402470aa1920ccc35dc4ba8"
            ],
            "layout": "IPY_MODEL_4eeb6276b3f04e48b7f5ab59b3617944"
          }
        },
        "4af95eaffca748258c09013e32f0ec5e": {
          "model_module": "@jupyter-widgets/controls",
          "model_module_version": "1.5.0",
          "model_name": "HTMLModel",
          "state": {
            "_dom_classes": [],
            "_model_module": "@jupyter-widgets/controls",
            "_model_module_version": "1.5.0",
            "_model_name": "HTMLModel",
            "_view_count": null,
            "_view_module": "@jupyter-widgets/controls",
            "_view_module_version": "1.5.0",
            "_view_name": "HTMLView",
            "description": "",
            "description_tooltip": null,
            "layout": "IPY_MODEL_54eb30ad2596431a870514d20a21e037",
            "placeholder": "​",
            "style": "IPY_MODEL_c4b7372bb63f415f89230831c751a068",
            "value": "Batches: 100%"
          }
        },
        "4eeb6276b3f04e48b7f5ab59b3617944": {
          "model_module": "@jupyter-widgets/base",
          "model_module_version": "1.2.0",
          "model_name": "LayoutModel",
          "state": {
            "_model_module": "@jupyter-widgets/base",
            "_model_module_version": "1.2.0",
            "_model_name": "LayoutModel",
            "_view_count": null,
            "_view_module": "@jupyter-widgets/base",
            "_view_module_version": "1.2.0",
            "_view_name": "LayoutView",
            "align_content": null,
            "align_items": null,
            "align_self": null,
            "border": null,
            "bottom": null,
            "display": null,
            "flex": null,
            "flex_flow": null,
            "grid_area": null,
            "grid_auto_columns": null,
            "grid_auto_flow": null,
            "grid_auto_rows": null,
            "grid_column": null,
            "grid_gap": null,
            "grid_row": null,
            "grid_template_areas": null,
            "grid_template_columns": null,
            "grid_template_rows": null,
            "height": null,
            "justify_content": null,
            "justify_items": null,
            "left": null,
            "margin": null,
            "max_height": null,
            "max_width": null,
            "min_height": null,
            "min_width": null,
            "object_fit": null,
            "object_position": null,
            "order": null,
            "overflow": null,
            "overflow_x": null,
            "overflow_y": null,
            "padding": null,
            "right": null,
            "top": null,
            "visibility": null,
            "width": null
          }
        },
        "54eb30ad2596431a870514d20a21e037": {
          "model_module": "@jupyter-widgets/base",
          "model_module_version": "1.2.0",
          "model_name": "LayoutModel",
          "state": {
            "_model_module": "@jupyter-widgets/base",
            "_model_module_version": "1.2.0",
            "_model_name": "LayoutModel",
            "_view_count": null,
            "_view_module": "@jupyter-widgets/base",
            "_view_module_version": "1.2.0",
            "_view_name": "LayoutView",
            "align_content": null,
            "align_items": null,
            "align_self": null,
            "border": null,
            "bottom": null,
            "display": null,
            "flex": null,
            "flex_flow": null,
            "grid_area": null,
            "grid_auto_columns": null,
            "grid_auto_flow": null,
            "grid_auto_rows": null,
            "grid_column": null,
            "grid_gap": null,
            "grid_row": null,
            "grid_template_areas": null,
            "grid_template_columns": null,
            "grid_template_rows": null,
            "height": null,
            "justify_content": null,
            "justify_items": null,
            "left": null,
            "margin": null,
            "max_height": null,
            "max_width": null,
            "min_height": null,
            "min_width": null,
            "object_fit": null,
            "object_position": null,
            "order": null,
            "overflow": null,
            "overflow_x": null,
            "overflow_y": null,
            "padding": null,
            "right": null,
            "top": null,
            "visibility": null,
            "width": null
          }
        },
        "564b331036d048e181814cf114e7a32b": {
          "model_module": "@jupyter-widgets/base",
          "model_module_version": "1.2.0",
          "model_name": "LayoutModel",
          "state": {
            "_model_module": "@jupyter-widgets/base",
            "_model_module_version": "1.2.0",
            "_model_name": "LayoutModel",
            "_view_count": null,
            "_view_module": "@jupyter-widgets/base",
            "_view_module_version": "1.2.0",
            "_view_name": "LayoutView",
            "align_content": null,
            "align_items": null,
            "align_self": null,
            "border": null,
            "bottom": null,
            "display": null,
            "flex": null,
            "flex_flow": null,
            "grid_area": null,
            "grid_auto_columns": null,
            "grid_auto_flow": null,
            "grid_auto_rows": null,
            "grid_column": null,
            "grid_gap": null,
            "grid_row": null,
            "grid_template_areas": null,
            "grid_template_columns": null,
            "grid_template_rows": null,
            "height": null,
            "justify_content": null,
            "justify_items": null,
            "left": null,
            "margin": null,
            "max_height": null,
            "max_width": null,
            "min_height": null,
            "min_width": null,
            "object_fit": null,
            "object_position": null,
            "order": null,
            "overflow": null,
            "overflow_x": null,
            "overflow_y": null,
            "padding": null,
            "right": null,
            "top": null,
            "visibility": null,
            "width": null
          }
        },
        "67f4f9a9d8b045c2a6bc24559bc49506": {
          "model_module": "@jupyter-widgets/controls",
          "model_module_version": "1.5.0",
          "model_name": "ProgressStyleModel",
          "state": {
            "_model_module": "@jupyter-widgets/controls",
            "_model_module_version": "1.5.0",
            "_model_name": "ProgressStyleModel",
            "_view_count": null,
            "_view_module": "@jupyter-widgets/base",
            "_view_module_version": "1.2.0",
            "_view_name": "StyleView",
            "bar_color": null,
            "description_width": ""
          }
        },
        "c4b7372bb63f415f89230831c751a068": {
          "model_module": "@jupyter-widgets/controls",
          "model_module_version": "1.5.0",
          "model_name": "DescriptionStyleModel",
          "state": {
            "_model_module": "@jupyter-widgets/controls",
            "_model_module_version": "1.5.0",
            "_model_name": "DescriptionStyleModel",
            "_view_count": null,
            "_view_module": "@jupyter-widgets/base",
            "_view_module_version": "1.2.0",
            "_view_name": "StyleView",
            "description_width": ""
          }
        },
        "d05a004832ea47b195ab9ccf8d778b61": {
          "model_module": "@jupyter-widgets/controls",
          "model_module_version": "1.5.0",
          "model_name": "DescriptionStyleModel",
          "state": {
            "_model_module": "@jupyter-widgets/controls",
            "_model_module_version": "1.5.0",
            "_model_name": "DescriptionStyleModel",
            "_view_count": null,
            "_view_module": "@jupyter-widgets/base",
            "_view_module_version": "1.2.0",
            "_view_name": "StyleView",
            "description_width": ""
          }
        },
        "dfbb0924698b4140aee7b94f82c35cf9": {
          "model_module": "@jupyter-widgets/base",
          "model_module_version": "1.2.0",
          "model_name": "LayoutModel",
          "state": {
            "_model_module": "@jupyter-widgets/base",
            "_model_module_version": "1.2.0",
            "_model_name": "LayoutModel",
            "_view_count": null,
            "_view_module": "@jupyter-widgets/base",
            "_view_module_version": "1.2.0",
            "_view_name": "LayoutView",
            "align_content": null,
            "align_items": null,
            "align_self": null,
            "border": null,
            "bottom": null,
            "display": null,
            "flex": null,
            "flex_flow": null,
            "grid_area": null,
            "grid_auto_columns": null,
            "grid_auto_flow": null,
            "grid_auto_rows": null,
            "grid_column": null,
            "grid_gap": null,
            "grid_row": null,
            "grid_template_areas": null,
            "grid_template_columns": null,
            "grid_template_rows": null,
            "height": null,
            "justify_content": null,
            "justify_items": null,
            "left": null,
            "margin": null,
            "max_height": null,
            "max_width": null,
            "min_height": null,
            "min_width": null,
            "object_fit": null,
            "object_position": null,
            "order": null,
            "overflow": null,
            "overflow_x": null,
            "overflow_y": null,
            "padding": null,
            "right": null,
            "top": null,
            "visibility": null,
            "width": null
          }
        },
        "f11a8920fb0f45a196358880e9f67c26": {
          "model_module": "@jupyter-widgets/controls",
          "model_module_version": "1.5.0",
          "model_name": "FloatProgressModel",
          "state": {
            "_dom_classes": [],
            "_model_module": "@jupyter-widgets/controls",
            "_model_module_version": "1.5.0",
            "_model_name": "FloatProgressModel",
            "_view_count": null,
            "_view_module": "@jupyter-widgets/controls",
            "_view_module_version": "1.5.0",
            "_view_name": "ProgressView",
            "bar_style": "success",
            "description": "",
            "description_tooltip": null,
            "layout": "IPY_MODEL_564b331036d048e181814cf114e7a32b",
            "max": 1,
            "min": 0,
            "orientation": "horizontal",
            "style": "IPY_MODEL_67f4f9a9d8b045c2a6bc24559bc49506",
            "value": 1
          }
        }
      }
    }
  },
  "nbformat": 4,
  "nbformat_minor": 0
}
